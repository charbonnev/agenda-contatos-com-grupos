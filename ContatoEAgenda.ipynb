{
    "cells": [
        {
            "cell_type": "code",
            "execution_count": 29,
            "source": [
                "class Agenda:\r\n",
                "    def __init__(self, contatos):\r\n",
                "        self.contatos = contatos\r\n",
                "        self.grupos = {}\r\n",
                "\r\n",
                "    def listar_contatos(self):\r\n",
                "        pass\r\n",
                "\r\n",
                "    def pesquisar_contatos(self):\r\n",
                "        pass\r\n",
                "\r\n",
                "    def detalhar_contato(self):\r\n",
                "        pass\r\n",
                "\r\n",
                "    def adicionar_contato(self):\r\n",
                "        pass\r\n",
                "\r\n",
                "    def alterar_contato(self):\r\n",
                "        pass\r\n",
                "\r\n",
                "    def remover_contato(self):\r\n",
                "        pass\r\n",
                "\r\n",
                "    def criar_grupo(self):\r\n",
                "        pass\r\n",
                "\r\n",
                "    def alterar_grupo(self):\r\n",
                "        pass\r\n",
                "\r\n",
                "    def remover_grupo(self):\r\n",
                "        pass\r\n",
                "\r\n",
                "    def executar(self):\r\n",
                "        pass\r\n",
                "\r\n",
                "\r\n",
                "class Contato:\r\n",
                "    curr_id = 1 # valor de Id do contato \r\n",
                "    \r\n",
                "    def __init__(self,nome,sobrenome = '',emails = [],telefones = []):\r\n",
                "        self.id = Contato.curr_id\r\n",
                "        self.nome = nome\r\n",
                "        self.sobrenome = sobrenome\r\n",
                "        self.emails = emails\r\n",
                "        self.telefones = telefones\r\n",
                "\r\n",
                "        Contato.curr_id += 1\r\n",
                "\r\n",
                "    @staticmethod\r\n",
                "    def verificar_email(string):\r\n",
                "        pass\r\n",
                "\r\n",
                "    @staticmethod\r\n",
                "    def verificar_telefone(string):\r\n",
                "        pass\r\n"
            ],
            "outputs": [],
            "metadata": {}
        },
        {
            "cell_type": "code",
            "execution_count": null,
            "source": [
                "#main.py\r\n",
                "\r\n",
                "\r\n",
                "lista_de_contatos = []\r\n",
                "Agenda(lista_de_contatos)\r\n",
                "Agenda.executar()"
            ],
            "outputs": [],
            "metadata": {}
        }
    ],
    "metadata": {
        "orig_nbformat": 4,
        "language_info": {
            "name": "python"
        }
    },
    "nbformat": 4,
    "nbformat_minor": 2
}