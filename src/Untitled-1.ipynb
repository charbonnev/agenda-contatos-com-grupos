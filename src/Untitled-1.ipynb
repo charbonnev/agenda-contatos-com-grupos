{
    "cells": [
        {
            "cell_type": "code",
            "execution_count": null,
            "source": [
                "import investpy as inv\r\n"
            ],
            "outputs": [],
            "metadata": {}
        }
    ],
    "metadata": {
        "orig_nbformat": 4,
        "language_info": {
            "name": "python",
            "version": "3.8.2"
        },
        "kernelspec": {
            "name": "python3",
            "display_name": "Python 3.8.2 64-bit ('dataScienceDegree': conda)"
        },
        "interpreter": {
            "hash": "a1c2add8d8e9dc2b260337e78ee33b0506237df6c056ce7b145a9585b9762e11"
        }
    },
    "nbformat": 4,
    "nbformat_minor": 2
}