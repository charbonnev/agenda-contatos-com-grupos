{
 "cells": [
  {
   "cell_type": "markdown",
   "source": [
    "# Abrir e corrigir o CSV"
   ],
   "metadata": {}
  },
  {
   "cell_type": "code",
   "execution_count": 60,
   "source": [
    "try:\r\n",
    "    import csv\r\n",
    "    import verificacoes #usado do trabalho anterior\r\n",
    "    from typing import List\r\n",
    "\r\n",
    "except ImportError:\r\n",
    "    print(f\"Verifique se os módulos de importação estão instalados ou presentes no diretório usado\\n{sys.exc_info()[1]}\")\r\n",
    "\r\n",
    "class Contato:\r\n",
    "    curr_id = 1 # valor de Id do contato \r\n",
    "    \r\n",
    "    def __init__(self,nome:str,telefones:List[str] = [],emails:List[str] = [],sobrenome:str = '')->None:\r\n",
    "        self.id = Contato.curr_id\r\n",
    "        self.nome = nome\r\n",
    "        self.sobrenome = sobrenome\r\n",
    "        self.emails = emails\r\n",
    "        self.telefones = telefones\r\n",
    "\r\n",
    "        Contato.curr_id += 1\r\n",
    "\r\n",
    "    #somente para ficar fácil de visualizar como está saindo cada contato e a lista de contatos (na versão final podemos deletar)\r\n",
    "    def __repr__(self):\r\n",
    "\r\n",
    "        return f\"\"\"{self.__class__.__name__}(id = {self.id}, nome = {self.nome}, sobrenome = {self.sobrenome}, tel = {self.telefones}, email = {self.emails})\"\"\" \r\n",
    "\r\n",
    "#somente para conseguir instanciar e testar o código na (versão final podemos deletar)\r\n",
    "class Agenda:\r\n",
    "    def __init__(self, contatos):\r\n",
    "        self.contatos = contatos\r\n",
    "\r\n",
    "\r\n",
    "def organiza_lista(lista_vazia:List[List[str]])->List[List[str]]:\r\n",
    "    '''\r\n",
    "    Função abre um arquivo CSV com campos desorganizados e para cada campo chama uma função de verificação de qual coluna o arquivo deveria estar 0 - nome, 1-telefone e 3 -email.\r\n",
    "    Após essa verificação, o campo é adicionado na coluna correta e é retornado uma lista com 3 listas (lista de nomes, lista de telefones e lista de emails), porém organizada. \r\n",
    "    '''\r\n",
    "    \r\n",
    "    try:\r\n",
    "        with open(\"contatos.csv\",\"r\",encoding=\"utf-8\") as file_inicial:\r\n",
    "            tabela_suja = csv.reader(file_inicial,delimiter=\";\",lineterminator=\"\\n\")\r\n",
    "            for linha in tabela_suja:\r\n",
    "                for campo in linha:\r\n",
    "                    lista_vazia[verificacoes.identifica_coluna(campo)].append(campo)\r\n",
    "        lista_preenchida = lista_vazia #somente para facilitar a leitura\r\n",
    "        return lista_preenchida\r\n",
    "    except FileNotFoundError:\r\n",
    "        print(f\"Arquivo não está no diretório especificado ou não existe\\n{sys.exc_info()[1]}\")\r\n",
    "\r\n",
    "\r\n",
    "lista_vazia:List[List[str]] =  [[],\r\n",
    "                                [],\r\n",
    "                                []]\r\n",
    "lista_organizada_por_colunas = organiza_lista(lista_vazia) #lista com 3 listas de 25 items cada\r\n",
    "lista_organizada_por_linhas = list(zip(*lista_organizada_por_colunas)) #lista com 25 listas de 3 items cada\r\n",
    "\r\n",
    "\r\n"
   ],
   "outputs": [],
   "metadata": {}
  },
  {
   "cell_type": "markdown",
   "source": [
    "# Criar instâncias da classe contatos"
   ],
   "metadata": {}
  },
  {
   "cell_type": "code",
   "execution_count": 66,
   "source": [
    "#tipagem para mostrar que é uma lista de listas de objetos Contato\r\n",
    "lista_contatos_preenchida:List[List[Contato]] = [Contato(*lista_organizada_por_linhas[i]) for i in range(len(lista_organizada_por_linhas))]"
   ],
   "outputs": [],
   "metadata": {}
  },
  {
   "cell_type": "markdown",
   "source": [
    "# Inserir contatos na agenda"
   ],
   "metadata": {}
  },
  {
   "cell_type": "code",
   "execution_count": 62,
   "source": [
    "agenda = Agenda(lista_contatos_preenchida)"
   ],
   "outputs": [],
   "metadata": {}
  },
  {
   "cell_type": "code",
   "execution_count": null,
   "source": [],
   "outputs": [],
   "metadata": {}
  }
 ],
 "metadata": {
  "orig_nbformat": 4,
  "language_info": {
   "name": "python",
   "version": "3.8.8",
   "mimetype": "text/x-python",
   "codemirror_mode": {
    "name": "ipython",
    "version": 3
   },
   "pygments_lexer": "ipython3",
   "nbconvert_exporter": "python",
   "file_extension": ".py"
  },
  "kernelspec": {
   "name": "python3",
   "display_name": "Python 3.8.8 64-bit ('base': conda)"
  },
  "interpreter": {
   "hash": "a53ceabf47d28d2bba89a71776e28108f0d60ebbb5215aa12963357d3d09d2a2"
  }
 },
 "nbformat": 4,
 "nbformat_minor": 2
}